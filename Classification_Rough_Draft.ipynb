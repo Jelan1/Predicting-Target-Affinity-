{
 "cells": [
  {
   "cell_type": "markdown",
   "metadata": {},
   "source": [
    "CHE542\n",
    "#### HOMEWORK 4: *Classification on a MoleculeNet Dataset* |  ChEMBL "
   ]
  },
  {
   "cell_type": "markdown",
   "metadata": {},
   "source": [
    "### *Task*\n",
    "Given a Protein Receptor, Classify which compounds are significantly active and which compounds display negligible activity. \n",
    "\n",
    "- After Training, A Binary Classification Model Can Perform A Virtual Screen\n",
    "    \n",
    "Below, the physical process of screening a compound library against a protein receptor is shown. \n",
    "![Getting Started](Single_Target_AssayPNG.PNG)\n",
    "A classifier trained on assay/screening data would assign compounds a label (active or inactive) instead producing physical measurements such as IC50.\n",
    " \n",
    " \n",
    "\n",
    "The 'final result' of this notebook are binary classifiers which appear capable of performing virtual assays with an encouraging degree of accuracy. Given a Receptor has a large enough assay size (about 500 or more compounds), we can predict which compounds will display significant activity at a rate between 30 and 65 percent accuracy. In general, the active compounds comprise about 10% of the dataset, so the model strongly outperforms a random guess. At the same time, the model correctly predicts inactive compounds between 93 and 98 percent of the time, implying there are few missed opportunities in terms of active compounds going unrecognized. \n",
    "\n",
    "Virtual Screening, of course, is a long-established task in Cheminformatics and can be carried out in different ways, as well as at different levels of resolution. Ligand-Based Virtual Screening consider only information about the compounds (their molecular features implied via SMILES)and their inhibitory effect on the target of interest. QSAR models and Similarity Searches (2-D and 3-D)are common examples.\n",
    "\n",
    "Structure-Based Virtual Screening, on the other hand, incorporates knowledge about the Ligand-Protein complex as well and is consequently more costly. The proposed binary classifier would be another example of a Ligand-Based VS.\n",
    "\n",
    "##### Virtual Screening In Practice\n",
    "\n",
    "Workflows commonly include multiple types of virtual screens used sequentially to whittle a compound library down to a handful of promising candidates.\n",
    "\n",
    "                            \n",
    "![virtual_screening-2.PNG](attachment:virtual_screening-2.PNG)\n",
    "\n",
    "\n",
    "                            A) Binary Classifier, 2D Similarity Search, QSAR Models\n",
    "\n",
    "                            B) 3D Similarity Search\n",
    "\n",
    "                            C) Docking\n",
    "\n",
    "                            D) FEP+\n",
    "\n",
    "                            E) Physical Assay (Ground Truth)\n",
    "\n",
    "\n",
    "While the final result of this notebook is a binary classifier,a plethora of powerful models capable of Ligand-Based Virtual Screening already exist. Instead, the central motivation largely comes from creating a *Multi-Label Classifier*.\n",
    "\n",
    "\n",
    "Such a model would be different from any of the previously discussed virtual screens because it would consider activity data for compounds across multiple targets  This narrative, rather than single-target classification, is present for the first half of the notebook and culminates in the construction of a Multi-Target DataFrame where the rows are compounds and the columns are Receptors (Targets).The second half examines what happens if we train a binary classifier on individual columns (single target) from this Multi-Target DataFrame.  "
   ]
  },
  {
   "cell_type": "markdown",
   "metadata": {},
   "source": [
    "\n",
    "\n",
    "\n",
    "\n"
   ]
  },
  {
   "cell_type": "markdown",
   "metadata": {},
   "source": [
    "##  **Motivation**\n",
    "\n",
    "#### *Mimic Proprietary Multi-Target Datasets Using Public Data*\n",
    " \n",
    "\n",
    "#### Example: Merck Kinase Dataset (Proprietary)\n",
    "This dataset can also be accessed via deepchem's MoleculeNet. Here is how it is described in the documentation ().\n",
    "\n",
    "\"It contains 2500 Merck in-house compounds that were measured for IC50 of inhibition on 99 protein kinases. Unlike most of the other datasets featured in MoleculeNet, the Kinase collection does not have structures for the compounds tested since they were proprietary Merck compounds. However, the collection does feature pre-computed descriptors for these compounds.\"\n",
    "\n",
    "\n",
    "Because *each* of the 2,500 compounds is assayed against *all* 99 kinases, the knowledge contained in such a dataset is remarkably informative\n",
    "In the Merck Dataset, we can imagine the physical screening process is repeated over all 99 targets. For each kinase, the most active compounds (and their respective structures) can be studied in order to form a pharmacophore. If there are multiple structurally unique active compounds, the same process will produce a set of pharmacophores. Thus, for each kinase, we can use its associated pharmacophores to construct crude illustrations of known optimal binding modes. We can also extend this notion beyond a single kinase to families of kinases. For example, we can examine if any commonalities exist between all the pharmacophores in a family. The differences between pharmacophores of closely related kinases may even be leveraged to highlight which features are most specific to a kinase. Although this explorative approach remains untested, we can try to implemenent its predictive counter part. \n",
    "\n",
    "## *Multi-Label Classification Model*\n",
    "Given a Multi-Target DataFrame (rows = Compound Library, columns = Receptor Set), we can train a multi-label classification model which can recieve an input compound and predict the kinases it will be active for. \n",
    "\n",
    "A Multi-Label classification model can take some input as a subject and assign which labels apply to it. For example, it could be trained on images of animals and afterwards be asked to identify which types of animals are present in any given image. Inputs may belong to one or multiple labels. Here, the image contains *both* a cat and a bird:\n",
    "\n",
    "![Multi-Label.PNG](attachment:Multi-Label.PNG)\n",
    "\n",
    "Because our classifier would receive a molecule as input and assign which receptors it will be active for, it would closely resemble the previous example:\n",
    "![alt text](New_name.PNG \"Title\")\n",
    "\n",
    "\n",
    "### *Receptor Families* \n",
    "\n",
    "Using a classifier trained on Multi-Target data is similar in spirit to studying the selectivity of a compound by assaying it against other, off-target kinases in the kinome.\n",
    "\n",
    "For example, the kinome map below represents 500 protein receptors and 6 compounds assayed against a subset (113) of these kinases. We can compare the compounds by studying which kinases they inhibit and which they do not. Although each compound is assayed against all 113 kinases those with negligible activity are not circled in red. On the other hand, the magnitude of the circle represents the degree of inhibition. \n",
    "##### Kinome Map\n",
    "\n",
    "![Getting Started](kinome.jpg)\n",
    "\n",
    "###### **Some compounds such as *Valatonib* are more selective because they show activity for a small subset of targets (selective), while others (*Stuarospirine*) are active across a much wider range.**\n",
    "![Getting Started](kinome_tree_selectivity.PNG)\n",
    "\n",
    "#### Classification Model as  Analog \n",
    "We could imagine a multi-label classifier trained on the Merck dataset as a similar but virtual process in which the kinase subset size is 99 and the red circles are equal magnitude. In other words, we can only classify a compound as active or inactive. Additionally, there may be other benefits to using a predictive model on this dataset such as using feature importance to rank molecular features most relevant for potency. The biggest issue here is that the full, non-anonymized data is not publically available. The question which arises, then, is how close can we get for free? "
   ]
  },
  {
   "cell_type": "markdown",
   "metadata": {},
   "source": [
    "#### Notebook Goals\n",
    "  1) *Create a Multi-Target DataFrame from a publically available source*\n",
    "     \n",
    "Merck's DataFrame is 2,500 rows (compounds) and 99 columns (kinases).This equals 247,500 unique compound-target activities. I have access to the ChEMBL database which includes thousands of protein receptors and hundreds of thousands of compounds. I will try to create the largest Multi-Target Dataset possible from this. Of course, we are no longer working with specifically kinases with ChEMBL, but all protein receptors.\n",
    "\n",
    "\n",
    " 2)  *Create a Binary Classification Model Capable of Performing Ligand-Based Virtual Screening*\n",
    "\n",
    "Because Multi-Label classification is harder, let's split apart our Multi-Target DataFrame into a series of single targets. If Single Label classification has very poor success, it does not make sense to try multi-label and points to issues with informative capacity of the data. Further discussion of Multi-Target Classification approaches is reserved at the end of this notebook."
   ]
  },
  {
   "cell_type": "markdown",
   "metadata": {},
   "source": [
    "# Part 1: Multi-Target DataFrame"
   ]
  },
  {
   "cell_type": "markdown",
   "metadata": {},
   "source": [
    "### Load Initial ChEMBL Target Activity Data Through MoleculeNet\n",
    "- Use 5thresh Subset to narrow Down Full ChEMBL dataset to Targets with 5 or more compounds assayed against them"
   ]
  },
  {
   "cell_type": "code",
   "execution_count": 6,
   "metadata": {
    "ExecuteTime": {
     "end_time": "2024-11-02T22:48:53.787016Z",
     "start_time": "2024-11-02T22:48:02.278477Z"
    }
   },
   "outputs": [],
   "source": [
    "chembl_tasks, datasets, transformers = dc.molnet.load_chembl(set= '5thresh',reload=False)#Multiple Comments on this line, Check associated text file \n",
    "train, valid, test = datasets # Similarly following doc. convention, and I am only interested in train for now and regard instead as my inital dataset"
   ]
  },
  {
   "cell_type": "markdown",
   "metadata": {},
   "source": [
    "#### Code Chunk 0; Extract Multi-Target Data \n",
    "\n",
    "The output of this code chunk represents our initial multi-target DataFrame. There are 19,096 rows and 691 columns \n",
    "\n",
    "- Column Perspective: Each column is a protein/receptor (target) and its entries are compounds assayed against it. \n",
    "\n",
    "- Row Perspective: Each row is a compound and its entries are proteins assayed against it.\n",
    "\n",
    "For compounds which have never been assayed against a target, we should expect there to be no data (NaN). However initial inspection shows that the initial matrix does not include any NaN. \n",
    "\n",
    "For further comments about the code, please consult the associated text file.\n"
   ]
  },
  {
   "cell_type": "code",
   "execution_count": 93,
   "metadata": {
    "ExecuteTime": {
     "end_time": "2024-11-03T02:38:48.200836Z",
     "start_time": "2024-11-03T02:38:42.287320Z"
    }
   },
   "outputs": [
    {
     "name": "stdout",
     "output_type": "stream",
     "text": [
      "DataFrame shape: 19096 Columns, 691 Rows \n"
     ]
    }
   ],
   "source": [
    "Y = pd.DataFrame(train.y)\n",
    "Y.index = train.ids\n",
    "for col in Y.columns: #Add Target tag to columns in Y (prevents column name ambiguity down the road) \n",
    "    Y.rename(columns={col:f\"Target {col}\"},inplace=True)\n",
    "print(f'DataFrame shape: {Y.shape[0]} Columns, {Y.shape[1]} Rows ')\n",
    "Y.head()# FIRST FIVE ROWS SHOWN"
   ]
  },
  {
   "cell_type": "markdown",
   "metadata": {},
   "source": [
    "### Data Pre-Processing \n",
    "\n",
    "Elimimate duplicates by canonicalizing SMILES and dropping rows with identical indices to ensure rows each is a unique molecule\n",
    "\n",
    "*We can see that the DF length remains unchanged (19,096), so we have no duplicates*"
   ]
  },
  {
   "cell_type": "code",
   "execution_count": 94,
   "metadata": {
    "ExecuteTime": {
     "end_time": "2024-11-03T02:39:08.693451Z",
     "start_time": "2024-11-03T02:38:51.623984Z"
    }
   },
   "outputs": [
    {
     "data": {
      "text/plain": [
       "(19096, 691)"
      ]
     },
     "execution_count": 94,
     "metadata": {},
     "output_type": "execute_result"
    }
   ],
   "source": [
    "#Canonicalization Step\n",
    "Y.index=[MolToSmiles(MolFromSmiles(compound_smiles,sanitize=False),canonical=True) for compound_smiles in Y.index]\n",
    "# Dropping Duplicate Indices Step\n",
    "Y.reset_index().drop_duplicates(subset='index', keep='last').set_index('index').shape"
   ]
  },
  {
   "cell_type": "markdown",
   "metadata": {},
   "source": [
    "# **Inital Exploration**\n",
    "\n",
    "\n",
    "We have 691 columns (Targets/Receptors), where each column has 19,096 entries. Of course, not all of the 19,096 compounds will have activity data for the Target. In fact, we would expect most entries to be NaN for any given target. \n",
    "\n",
    "Therefore, for each Target we must filter out the set of compounds it was not assayed against.   "
   ]
  },
  {
   "cell_type": "markdown",
   "metadata": {},
   "source": [
    "##### Examining a Single Target"
   ]
  },
  {
   "cell_type": "code",
   "execution_count": 95,
   "metadata": {
    "ExecuteTime": {
     "end_time": "2024-11-03T02:39:08.722532Z",
     "start_time": "2024-11-03T02:39:08.699056Z"
    }
   },
   "outputs": [
    {
     "data": {
      "text/html": [
       "<div>\n",
       "<style scoped>\n",
       "    .dataframe tbody tr th:only-of-type {\n",
       "        vertical-align: middle;\n",
       "    }\n",
       "\n",
       "    .dataframe tbody tr th {\n",
       "        vertical-align: top;\n",
       "    }\n",
       "\n",
       "    .dataframe thead th {\n",
       "        text-align: right;\n",
       "    }\n",
       "</style>\n",
       "<table border=\"1\" class=\"dataframe\">\n",
       "  <thead>\n",
       "    <tr style=\"text-align: right;\">\n",
       "      <th></th>\n",
       "      <th>Target 237</th>\n",
       "    </tr>\n",
       "  </thead>\n",
       "  <tbody>\n",
       "    <tr>\n",
       "      <th>CC(NC(C)(C)C)C(=O)c1ccc(Br)cc1</th>\n",
       "      <td>-0.328485</td>\n",
       "    </tr>\n",
       "    <tr>\n",
       "      <th>CC#CCOc1ccc(S(=O)(=O)C(CCCCCC)C(=O)NO)cc1</th>\n",
       "      <td>-0.328485</td>\n",
       "    </tr>\n",
       "    <tr>\n",
       "      <th>NS(=O)(=O)c1cc(Cl)c(Cl)c(S(N)(=O)=O)c1</th>\n",
       "      <td>2.747118</td>\n",
       "    </tr>\n",
       "    <tr>\n",
       "      <th>N#CCC(=O)Nc1ccc(S(N)(=O)=O)cc1</th>\n",
       "      <td>3.453675</td>\n",
       "    </tr>\n",
       "    <tr>\n",
       "      <th>CCCCCCCCOc1ccc(NC(=O)[C@@](C)(N)COP(=O)(O)O)cc1F</th>\n",
       "      <td>-0.328485</td>\n",
       "    </tr>\n",
       "    <tr>\n",
       "      <th>...</th>\n",
       "      <td>...</td>\n",
       "    </tr>\n",
       "    <tr>\n",
       "      <th>CCCCN1C(=O)C(C(=O)NC2CCCCC2)=CC2=C1CCCCCC2</th>\n",
       "      <td>-0.328485</td>\n",
       "    </tr>\n",
       "    <tr>\n",
       "      <th>N=C(N)c1ccc(Oc2cc(Oc3ccc(C(=N)N)cc3)cc(C(=O)Nc3ccc(F)cc3)c2)cc1</th>\n",
       "      <td>-0.328485</td>\n",
       "    </tr>\n",
       "    <tr>\n",
       "      <th>CN1CCN[C@H](C(=O)N[C@H](Cc2ccc(F)cc2)C(=O)N2CCC(C(=O)NC(C)(C)C)(C3CCCCC3)CC2)C1</th>\n",
       "      <td>-0.328485</td>\n",
       "    </tr>\n",
       "    <tr>\n",
       "      <th>CN1C2C=C(c3cccc(c4ccccc4)c3)CC1CC2</th>\n",
       "      <td>-0.328485</td>\n",
       "    </tr>\n",
       "    <tr>\n",
       "      <th>c1ccc2c(C34CNCC3C4)csc2c1</th>\n",
       "      <td>-0.328485</td>\n",
       "    </tr>\n",
       "  </tbody>\n",
       "</table>\n",
       "<p>19096 rows × 1 columns</p>\n",
       "</div>"
      ],
      "text/plain": [
       "                                                    Target 237\n",
       "CC(NC(C)(C)C)C(=O)c1ccc(Br)cc1                       -0.328485\n",
       "CC#CCOc1ccc(S(=O)(=O)C(CCCCCC)C(=O)NO)cc1            -0.328485\n",
       "NS(=O)(=O)c1cc(Cl)c(Cl)c(S(N)(=O)=O)c1                2.747118\n",
       "N#CCC(=O)Nc1ccc(S(N)(=O)=O)cc1                        3.453675\n",
       "CCCCCCCCOc1ccc(NC(=O)[C@@](C)(N)COP(=O)(O)O)cc1F     -0.328485\n",
       "...                                                        ...\n",
       "CCCCN1C(=O)C(C(=O)NC2CCCCC2)=CC2=C1CCCCCC2           -0.328485\n",
       "N=C(N)c1ccc(Oc2cc(Oc3ccc(C(=N)N)cc3)cc(C(=O)Nc3...   -0.328485\n",
       "CN1CCN[C@H](C(=O)N[C@H](Cc2ccc(F)cc2)C(=O)N2CCC...   -0.328485\n",
       "CN1C2C=C(c3cccc(c4ccccc4)c3)CC1CC2                   -0.328485\n",
       "c1ccc2c(C34CNCC3C4)csc2c1                            -0.328485\n",
       "\n",
       "[19096 rows x 1 columns]"
      ]
     },
     "execution_count": 95,
     "metadata": {},
     "output_type": "execute_result"
    }
   ],
   "source": [
    "Single_Target = pd.DataFrame(Y['Target 237'])\n",
    "Single_Target"
   ]
  },
  {
   "cell_type": "markdown",
   "metadata": {},
   "source": [
    "Although crude, plotting the activity for a single receptor (Target 237) shows the activity type may be Inhibition measured as IC50 uM because many values range between 2 and 5. "
   ]
  },
  {
   "cell_type": "code",
   "execution_count": 96,
   "metadata": {
    "ExecuteTime": {
     "end_time": "2024-11-03T02:39:09.451609Z",
     "start_time": "2024-11-03T02:39:08.729639Z"
    }
   },
   "outputs": [
    {
     "data": {
      "text/plain": [
       "<Axes: >"
      ]
     },
     "execution_count": 96,
     "metadata": {},
     "output_type": "execute_result"
    },
    {
     "data": {
      "image/png": "[encoded data removed]",
      "text/plain": [
       "<Figure size 640x480 with 1 Axes>"
      ]
     },
     "metadata": {},
     "output_type": "display_data"
    }
   ],
   "source": [
    "Single_Target.plot()"
   ]
  },
  {
   "cell_type": "markdown",
   "metadata": {},
   "source": [
    "Creating a histogram reveals that a single, negative measurement occurs extremely frequently. Outside of this, the values are similar to those of Inhibition measured in uM.\n",
    "\n",
    "This, combined with the fact that negative activity data (IC50,Ki, etc.) is logically impossible, means the single, oft-repeating negative value is likely notation for NaN."
   ]
  },
  {
   "cell_type": "code",
   "execution_count": 97,
   "metadata": {
    "ExecuteTime": {
     "end_time": "2024-11-03T02:39:10.381949Z",
     "start_time": "2024-11-03T02:39:09.463985Z"
    }
   },
   "outputs": [
    {
     "data": {
      "text/plain": [
       "array([[<Axes: title={'center': 'Target 237'}>]], dtype=object)"
      ]
     },
     "execution_count": 97,
     "metadata": {},
     "output_type": "execute_result"
    },
    {
     "data": {
      "image/png": "[encoded data removed]",
      "text/plain": [
       "<Figure size 640x480 with 1 Axes>"
      ]
     },
     "metadata": {},
     "output_type": "display_data"
    }
   ],
   "source": [
    "Single_Target.hist()"
   ]
  },
  {
   "cell_type": "markdown",
   "metadata": {},
   "source": [
    "If we convert negative values to NaN and according drop rows (compounds) with NaN entries, we can access the set of assayed compounds."
   ]
  },
  {
   "cell_type": "code",
   "execution_count": 119,
   "metadata": {
    "ExecuteTime": {
     "end_time": "2024-11-04T15:28:21.666263Z",
     "start_time": "2024-11-04T15:28:20.509616Z"
    }
   },
   "outputs": [
    {
     "data": {
      "text/html": [
       "<div>\n",
       "<style scoped>\n",
       "    .dataframe tbody tr th:only-of-type {\n",
       "        vertical-align: middle;\n",
       "    }\n",
       "\n",
       "    .dataframe tbody tr th {\n",
       "        vertical-align: top;\n",
       "    }\n",
       "\n",
       "    .dataframe thead th {\n",
       "        text-align: right;\n",
       "    }\n",
       "</style>\n",
       "<table border=\"1\" class=\"dataframe\">\n",
       "  <thead>\n",
       "    <tr style=\"text-align: right;\">\n",
       "      <th></th>\n",
       "      <th>Target 237</th>\n",
       "    </tr>\n",
       "  </thead>\n",
       "  <tbody>\n",
       "    <tr>\n",
       "      <th>NS(=O)(=O)c1cc(Cl)c(Cl)c(c1)S(=O)(=O)N</th>\n",
       "      <td>2.747118</td>\n",
       "    </tr>\n",
       "    <tr>\n",
       "      <th>NS(=O)(=O)c1ccc(NC(=O)CC#N)cc1</th>\n",
       "      <td>3.453675</td>\n",
       "    </tr>\n",
       "    <tr>\n",
       "      <th>CN(C)CCN=C(S)/NCCc1ccc(cc1)S(=O)(=O)N</th>\n",
       "      <td>3.412113</td>\n",
       "    </tr>\n",
       "    <tr>\n",
       "      <th>CC(C)(C)OC(=O)NS(=O)(=O)NCc1ccccc1</th>\n",
       "      <td>2.295129</td>\n",
       "    </tr>\n",
       "    <tr>\n",
       "      <th>CCCN(CCC)S(=O)(=O)c1ccc(cc1)C(=O)N[C@@H](CC(C)C)C(=O)O</th>\n",
       "      <td>2.315910</td>\n",
       "    </tr>\n",
       "    <tr>\n",
       "      <th>...</th>\n",
       "      <td>...</td>\n",
       "    </tr>\n",
       "    <tr>\n",
       "      <th>NS(=O)(=O)c1ccc(CNC(=O)CN(CCN(CC(=O)O)CC(=O)NCc2ccc(cc2)S(=O)(=O)N)CC(=O)O)cc1</th>\n",
       "      <td>2.975710</td>\n",
       "    </tr>\n",
       "    <tr>\n",
       "      <th>NS(=O)(=O)c1cc(C(=O)O)c(NCc2occc2)cc1Cl</th>\n",
       "      <td>3.417308</td>\n",
       "    </tr>\n",
       "    <tr>\n",
       "      <th>NS(=O)(=O)c1ccc(CNC(=O)CCCNC(=O)NCCc2ccccc2)cc1</th>\n",
       "      <td>3.453675</td>\n",
       "    </tr>\n",
       "    <tr>\n",
       "      <th>CC1CN(C)S(=O)(=O)c2ccc(N)cc12</th>\n",
       "      <td>2.892585</td>\n",
       "    </tr>\n",
       "    <tr>\n",
       "      <th>NS(=O)(=O)c1ccc(CN2C(=O)c3nccnc3C2=O)cc1</th>\n",
       "      <td>2.949733</td>\n",
       "    </tr>\n",
       "  </tbody>\n",
       "</table>\n",
       "<p>1921 rows × 1 columns</p>\n",
       "</div>"
      ],
      "text/plain": [
       "                                                    Target 237\n",
       "NS(=O)(=O)c1cc(Cl)c(Cl)c(c1)S(=O)(=O)N                2.747118\n",
       "NS(=O)(=O)c1ccc(NC(=O)CC#N)cc1                        3.453675\n",
       "CN(C)CCN=C(S)/NCCc1ccc(cc1)S(=O)(=O)N                 3.412113\n",
       "CC(C)(C)OC(=O)NS(=O)(=O)NCc1ccccc1                    2.295129\n",
       "CCCN(CCC)S(=O)(=O)c1ccc(cc1)C(=O)N[C@@H](CC(C)C...    2.315910\n",
       "...                                                        ...\n",
       "NS(=O)(=O)c1ccc(CNC(=O)CN(CCN(CC(=O)O)CC(=O)NCc...    2.975710\n",
       "NS(=O)(=O)c1cc(C(=O)O)c(NCc2occc2)cc1Cl               3.417308\n",
       "NS(=O)(=O)c1ccc(CNC(=O)CCCNC(=O)NCCc2ccccc2)cc1       3.453675\n",
       "CC1CN(C)S(=O)(=O)c2ccc(N)cc12                         2.892585\n",
       "NS(=O)(=O)c1ccc(CN2C(=O)c3nccnc3C2=O)cc1              2.949733\n",
       "\n",
       "[1921 rows x 1 columns]"
      ]
     },
     "execution_count": 119,
     "metadata": {},
     "output_type": "execute_result"
    }
   ],
   "source": [
    "Y[Y <= 0] \n",
    "Y[Y <= 0] = np.nan # From above discussion , negative IC50 is impossible + repeating single val likely means Nan \n",
    "Single_Target_Filtered = pd.DataFrame(Y['Target 237']).dropna() # removes NaN rows\n",
    "Single_Target_Filtered"
   ]
  },
  {
   "cell_type": "markdown",
   "metadata": {},
   "source": [
    "Finally, if we re-create a the two graphs before, it is clear the activity data for Target 237 takes on similar values to an inhibiton assay measured in uM. "
   ]
  },
  {
   "cell_type": "code",
   "execution_count": 100,
   "metadata": {
    "ExecuteTime": {
     "end_time": "2024-11-03T02:39:11.798022Z",
     "start_time": "2024-11-03T02:39:11.220161Z"
    }
   },
   "outputs": [
    {
     "data": {
      "text/plain": [
       "<Axes: >"
      ]
     },
     "execution_count": 100,
     "metadata": {},
     "output_type": "execute_result"
    },
    {
     "data": {
      "image/png": "[encoded data removed]",
      "text/plain": [
       "<Figure size 640x480 with 1 Axes>"
      ]
     },
     "metadata": {},
     "output_type": "display_data"
    }
   ],
   "source": [
    "Single_Target_Filtered.plot()"
   ]
  },
  {
   "cell_type": "code",
   "execution_count": 101,
   "metadata": {
    "ExecuteTime": {
     "end_time": "2024-11-03T02:39:12.268044Z",
     "start_time": "2024-11-03T02:39:11.803580Z"
    }
   },
   "outputs": [
    {
     "data": {
      "text/plain": [
       "array([[<Axes: title={'center': 'Target 237'}>]], dtype=object)"
      ]
     },
     "execution_count": 101,
     "metadata": {},
     "output_type": "execute_result"
    },
    {
     "data": {
      "image/png": "[encoded data removed]",
      "text/plain": [
       "<Figure size 640x480 with 1 Axes>"
      ]
     },
     "metadata": {},
     "output_type": "display_data"
    }
   ],
   "source": [
    "Single_Target_Filtered.hist()"
   ]
  },
  {
   "cell_type": "markdown",
   "metadata": {},
   "source": [
    "### CODE CHUNK 1; **Sort Targets by size of Assay**\n",
    "\n",
    "Return List where each item is a Column (Target) of varying length only containing activity.\n"
   ]
  },
  {
   "cell_type": "code",
   "execution_count": 102,
   "metadata": {
    "ExecuteTime": {
     "end_time": "2024-11-03T02:39:13.644715Z",
     "start_time": "2024-11-03T02:39:12.278274Z"
    }
   },
   "outputs": [],
   "source": [
    "Y = Y.loc[:, (Y != 0).any(axis=0)]\n",
    "backup = Y.copy()\n",
    "only_hits_dfs = []\n",
    "for i,col in enumerate(Y):\n",
    "    only_hits_dfs.append(pd.DataFrame(Y[col].dropna())\n",
    ")\n",
    "    \n",
    "\n",
    "many_hits = []\n",
    "for i,df in enumerate(only_hits_dfs):\n",
    "    df = df[df.columns[0]]\n",
    "    if len(df)>300:\n",
    "        #print(len(df))\n",
    "        #print(i)\n",
    "        many_hits.append(df)\n",
    "many_hits.sort(key=len)\n",
    "many_hits.reverse()"
   ]
  },
  {
   "cell_type": "markdown",
   "metadata": {
    "ExecuteTime": {
     "end_time": "2024-10-31T00:04:56.721297Z",
     "start_time": "2024-10-31T00:04:56.716617Z"
    }
   },
   "source": [
    "##### We can see Target 237 is the largest with 1,921 compounds assayed against it."
   ]
  },
  {
   "cell_type": "code",
   "execution_count": 103,
   "metadata": {
    "ExecuteTime": {
     "end_time": "2024-11-03T02:39:13.678727Z",
     "start_time": "2024-11-03T02:39:13.653658Z"
    }
   },
   "outputs": [
    {
     "data": {
      "text/html": [
       "<div>\n",
       "<style scoped>\n",
       "    .dataframe tbody tr th:only-of-type {\n",
       "        vertical-align: middle;\n",
       "    }\n",
       "\n",
       "    .dataframe tbody tr th {\n",
       "        vertical-align: top;\n",
       "    }\n",
       "\n",
       "    .dataframe thead th {\n",
       "        text-align: right;\n",
       "    }\n",
       "</style>\n",
       "<table border=\"1\" class=\"dataframe\">\n",
       "  <thead>\n",
       "    <tr style=\"text-align: right;\">\n",
       "      <th></th>\n",
       "      <th>Target 237</th>\n",
       "    </tr>\n",
       "  </thead>\n",
       "  <tbody>\n",
       "    <tr>\n",
       "      <th>NS(=O)(=O)c1cc(Cl)c(Cl)c(S(N)(=O)=O)c1</th>\n",
       "      <td>2.747118</td>\n",
       "    </tr>\n",
       "    <tr>\n",
       "      <th>N#CCC(=O)Nc1ccc(S(N)(=O)=O)cc1</th>\n",
       "      <td>3.453675</td>\n",
       "    </tr>\n",
       "    <tr>\n",
       "      <th>CN(C)CC/N=C(/S)NCCc1ccc(S(N)(=O)=O)cc1</th>\n",
       "      <td>3.412113</td>\n",
       "    </tr>\n",
       "    <tr>\n",
       "      <th>CC(C)(C)OC(=O)NS(=O)(=O)NCc1ccccc1</th>\n",
       "      <td>2.295129</td>\n",
       "    </tr>\n",
       "    <tr>\n",
       "      <th>CCCN(CCC)S(=O)(=O)c1ccc(C(=O)N[C@@H](CC(C)C)C(=O)O)cc1</th>\n",
       "      <td>2.315910</td>\n",
       "    </tr>\n",
       "    <tr>\n",
       "      <th>...</th>\n",
       "      <td>...</td>\n",
       "    </tr>\n",
       "    <tr>\n",
       "      <th>NS(=O)(=O)c1ccc(CNC(=O)CN(CCN(CC(=O)O)CC(=O)NCc2ccc(S(N)(=O)=O)cc2)CC(=O)O)cc1</th>\n",
       "      <td>2.975710</td>\n",
       "    </tr>\n",
       "    <tr>\n",
       "      <th>NS(=O)(=O)c1cc(C(=O)O)c(NCc2ccco2)cc1Cl</th>\n",
       "      <td>3.417308</td>\n",
       "    </tr>\n",
       "    <tr>\n",
       "      <th>NS(=O)(=O)c1ccc(CNC(=O)CCCNC(=O)NCCc2ccccc2)cc1</th>\n",
       "      <td>3.453675</td>\n",
       "    </tr>\n",
       "    <tr>\n",
       "      <th>CC1CN(C)S(=O)(=O)c2ccc(N)cc21</th>\n",
       "      <td>2.892585</td>\n",
       "    </tr>\n",
       "    <tr>\n",
       "      <th>NS(=O)(=O)c1ccc(CN2C(=O)c3nccnc3C2=O)cc1</th>\n",
       "      <td>2.949733</td>\n",
       "    </tr>\n",
       "  </tbody>\n",
       "</table>\n",
       "<p>1921 rows × 1 columns</p>\n",
       "</div>"
      ],
      "text/plain": [
       "                                                    Target 237\n",
       "NS(=O)(=O)c1cc(Cl)c(Cl)c(S(N)(=O)=O)c1                2.747118\n",
       "N#CCC(=O)Nc1ccc(S(N)(=O)=O)cc1                        3.453675\n",
       "CN(C)CC/N=C(/S)NCCc1ccc(S(N)(=O)=O)cc1                3.412113\n",
       "CC(C)(C)OC(=O)NS(=O)(=O)NCc1ccccc1                    2.295129\n",
       "CCCN(CCC)S(=O)(=O)c1ccc(C(=O)N[C@@H](CC(C)C)C(=...    2.315910\n",
       "...                                                        ...\n",
       "NS(=O)(=O)c1ccc(CNC(=O)CN(CCN(CC(=O)O)CC(=O)NCc...    2.975710\n",
       "NS(=O)(=O)c1cc(C(=O)O)c(NCc2ccco2)cc1Cl               3.417308\n",
       "NS(=O)(=O)c1ccc(CNC(=O)CCCNC(=O)NCCc2ccccc2)cc1       3.453675\n",
       "CC1CN(C)S(=O)(=O)c2ccc(N)cc21                         2.892585\n",
       "NS(=O)(=O)c1ccc(CN2C(=O)c3nccnc3C2=O)cc1              2.949733\n",
       "\n",
       "[1921 rows x 1 columns]"
      ]
     },
     "execution_count": 103,
     "metadata": {},
     "output_type": "execute_result"
    }
   ],
   "source": [
    "pd.DataFrame(many_hits[0]) # This is the most commonly assayed Target.\n"
   ]
  },
  {
   "cell_type": "markdown",
   "metadata": {},
   "source": [
    "#### The 20th largest assay belongs to Target 150 with 631 compounds tested against it."
   ]
  },
  {
   "cell_type": "code",
   "execution_count": 104,
   "metadata": {
    "ExecuteTime": {
     "end_time": "2024-11-03T02:39:13.710741Z",
     "start_time": "2024-11-03T02:39:13.686659Z"
    }
   },
   "outputs": [
    {
     "data": {
      "text/html": [
       "<div>\n",
       "<style scoped>\n",
       "    .dataframe tbody tr th:only-of-type {\n",
       "        vertical-align: middle;\n",
       "    }\n",
       "\n",
       "    .dataframe tbody tr th {\n",
       "        vertical-align: top;\n",
       "    }\n",
       "\n",
       "    .dataframe thead th {\n",
       "        text-align: right;\n",
       "    }\n",
       "</style>\n",
       "<table border=\"1\" class=\"dataframe\">\n",
       "  <thead>\n",
       "    <tr style=\"text-align: right;\">\n",
       "      <th></th>\n",
       "      <th>Target 150</th>\n",
       "    </tr>\n",
       "  </thead>\n",
       "  <tbody>\n",
       "    <tr>\n",
       "      <th>COc1cc(C[C@@H](C)N)c(OC)cc1I</th>\n",
       "      <td>6.488113</td>\n",
       "    </tr>\n",
       "    <tr>\n",
       "      <th>COc1cc(CC(C)N)c(OC)cc1I</th>\n",
       "      <td>5.646307</td>\n",
       "    </tr>\n",
       "    <tr>\n",
       "      <th>CN(C)[C@H]1Cc2ccccc2[C@H](c2ccccc2)C1</th>\n",
       "      <td>4.875974</td>\n",
       "    </tr>\n",
       "    <tr>\n",
       "      <th>CN(C)[C@@H]1Cc2ccccc2[C@@H](c2ccccc2)C1</th>\n",
       "      <td>5.789255</td>\n",
       "    </tr>\n",
       "    <tr>\n",
       "      <th>CN(C)CCc1c[nH]c2cc(O)ccc12</th>\n",
       "      <td>3.922986</td>\n",
       "    </tr>\n",
       "    <tr>\n",
       "      <th>...</th>\n",
       "      <td>...</td>\n",
       "    </tr>\n",
       "    <tr>\n",
       "      <th>N=C(N)NCCC[C@@H]1NC(=O)/C(=C/c2c[nH]c3cc(Br)ccc23)NC1=O</th>\n",
       "      <td>4.955390</td>\n",
       "    </tr>\n",
       "    <tr>\n",
       "      <th>Cc1ccc2c(N3CCN(CCc4cccc(N5CCNC5=O)c4)CC3)cccc2n1</th>\n",
       "      <td>4.423305</td>\n",
       "    </tr>\n",
       "    <tr>\n",
       "      <th>C[C@@H]1CNC[C@H]2Cc3ccc(COCC4CC4)nc3N21</th>\n",
       "      <td>6.519879</td>\n",
       "    </tr>\n",
       "    <tr>\n",
       "      <th>O=C1c2ccc3c(c2C[C@@H]2CNCCN12)OCCC3</th>\n",
       "      <td>5.844846</td>\n",
       "    </tr>\n",
       "    <tr>\n",
       "      <th>C[C@H](N)Cn1ccc2ccc3cccnc3c21</th>\n",
       "      <td>5.606599</td>\n",
       "    </tr>\n",
       "  </tbody>\n",
       "</table>\n",
       "<p>631 rows × 1 columns</p>\n",
       "</div>"
      ],
      "text/plain": [
       "                                                    Target 150\n",
       "COc1cc(C[C@@H](C)N)c(OC)cc1I                          6.488113\n",
       "COc1cc(CC(C)N)c(OC)cc1I                               5.646307\n",
       "CN(C)[C@H]1Cc2ccccc2[C@H](c2ccccc2)C1                 4.875974\n",
       "CN(C)[C@@H]1Cc2ccccc2[C@@H](c2ccccc2)C1               5.789255\n",
       "CN(C)CCc1c[nH]c2cc(O)ccc12                            3.922986\n",
       "...                                                        ...\n",
       "N=C(N)NCCC[C@@H]1NC(=O)/C(=C/c2c[nH]c3cc(Br)ccc...    4.955390\n",
       "Cc1ccc2c(N3CCN(CCc4cccc(N5CCNC5=O)c4)CC3)cccc2n1      4.423305\n",
       "C[C@@H]1CNC[C@H]2Cc3ccc(COCC4CC4)nc3N21               6.519879\n",
       "O=C1c2ccc3c(c2C[C@@H]2CNCCN12)OCCC3                   5.844846\n",
       "C[C@H](N)Cn1ccc2ccc3cccnc3c21                         5.606599\n",
       "\n",
       "[631 rows x 1 columns]"
      ]
     },
     "execution_count": 104,
     "metadata": {},
     "output_type": "execute_result"
    }
   ],
   "source": [
    "pd.DataFrame(many_hits[20]) # This is the most commonly assayed Target.\n"
   ]
  },
  {
   "cell_type": "markdown",
   "metadata": {},
   "source": [
    "# Checkpoint Saturday Night"
   ]
  },
  {
   "cell_type": "markdown",
   "metadata": {
    "ExecuteTime": {
     "end_time": "2024-10-31T17:49:06.969490Z",
     "start_time": "2024-10-31T17:49:06.965049Z"
    }
   },
   "source": [
    "### Code Chunk 2; Create Largest Possible Multi-Target DataFrame\n",
    "\n",
    "Many approaches which guarantee larger dataframes, I take the simplest aprroach. Start with the largest Target (assay size) and add the next largest assay with the highest compound overlap. With this new dataset (2 targers by x number of shared compounds) try the same thing and repeat until adding a new target loses too much data."
   ]
  },
  {
   "cell_type": "code",
   "execution_count": 105,
   "metadata": {
    "ExecuteTime": {
     "end_time": "2024-11-03T02:39:41.966574Z",
     "start_time": "2024-11-03T02:39:13.717423Z"
    }
   },
   "outputs": [
    {
     "name": "stdout",
     "output_type": "stream",
     "text": [
      "yes\n",
      "yes\n"
     ]
    },
    {
     "data": {
      "text/html": [
       "<div>\n",
       "<style scoped>\n",
       "    .dataframe tbody tr th:only-of-type {\n",
       "        vertical-align: middle;\n",
       "    }\n",
       "\n",
       "    .dataframe tbody tr th {\n",
       "        vertical-align: top;\n",
       "    }\n",
       "\n",
       "    .dataframe thead th {\n",
       "        text-align: right;\n",
       "    }\n",
       "</style>\n",
       "<table border=\"1\" class=\"dataframe\">\n",
       "  <thead>\n",
       "    <tr style=\"text-align: right;\">\n",
       "      <th></th>\n",
       "      <th>Target 354</th>\n",
       "      <th>Target 410</th>\n",
       "      <th>Target 117</th>\n",
       "      <th>Target 237</th>\n",
       "    </tr>\n",
       "  </thead>\n",
       "  <tbody>\n",
       "    <tr>\n",
       "      <th>NS(=O)(=O)c1cc(Cl)c(Cl)c(S(N)(=O)=O)c1</th>\n",
       "      <td>3.299619</td>\n",
       "      <td>3.203899</td>\n",
       "      <td>3.135286</td>\n",
       "      <td>2.747118</td>\n",
       "    </tr>\n",
       "    <tr>\n",
       "      <th>N#CCC(=O)Nc1ccc(S(N)(=O)=O)cc1</th>\n",
       "      <td>4.220268</td>\n",
       "      <td>3.675802</td>\n",
       "      <td>3.504011</td>\n",
       "      <td>3.453675</td>\n",
       "    </tr>\n",
       "    <tr>\n",
       "      <th>CC(F)CNc1ccc(S(N)(=O)=O)cc1</th>\n",
       "      <td>3.215924</td>\n",
       "      <td>3.232791</td>\n",
       "      <td>3.051273</td>\n",
       "      <td>3.183521</td>\n",
       "    </tr>\n",
       "    <tr>\n",
       "      <th>COC(=O)/C=C/c1ccc(O)cc1</th>\n",
       "      <td>2.703905</td>\n",
       "      <td>2.611614</td>\n",
       "      <td>2.519189</td>\n",
       "      <td>2.845828</td>\n",
       "    </tr>\n",
       "    <tr>\n",
       "      <th>C=C(C)CNS(=O)(=O)c1ccc(N)cc1</th>\n",
       "      <td>2.605440</td>\n",
       "      <td>2.317879</td>\n",
       "      <td>2.159799</td>\n",
       "      <td>2.347081</td>\n",
       "    </tr>\n",
       "    <tr>\n",
       "      <th>...</th>\n",
       "      <td>...</td>\n",
       "      <td>...</td>\n",
       "      <td>...</td>\n",
       "      <td>...</td>\n",
       "    </tr>\n",
       "    <tr>\n",
       "      <th>NS(=O)(=O)c1ccc(CNC(=O)CN(CCN(CC(=O)O)CC(=O)NCc2ccc(S(N)(=O)=O)cc2)CC(=O)O)cc1</th>\n",
       "      <td>3.900257</td>\n",
       "      <td>3.608387</td>\n",
       "      <td>3.896073</td>\n",
       "      <td>2.975710</td>\n",
       "    </tr>\n",
       "    <tr>\n",
       "      <th>NS(=O)(=O)c1cc(C(=O)O)c(NCc2ccco2)cc1Cl</th>\n",
       "      <td>2.945144</td>\n",
       "      <td>2.760889</td>\n",
       "      <td>3.027936</td>\n",
       "      <td>3.417308</td>\n",
       "    </tr>\n",
       "    <tr>\n",
       "      <th>NS(=O)(=O)c1ccc(CNC(=O)CCCNC(=O)NCCc2ccccc2)cc1</th>\n",
       "      <td>3.329159</td>\n",
       "      <td>2.828304</td>\n",
       "      <td>3.480674</td>\n",
       "      <td>3.453675</td>\n",
       "    </tr>\n",
       "    <tr>\n",
       "      <th>CC1CN(C)S(=O)(=O)c2ccc(N)cc21</th>\n",
       "      <td>2.920528</td>\n",
       "      <td>2.996840</td>\n",
       "      <td>2.645209</td>\n",
       "      <td>2.892585</td>\n",
       "    </tr>\n",
       "    <tr>\n",
       "      <th>NS(=O)(=O)c1ccc(CN2C(=O)c3nccnc3C2=O)cc1</th>\n",
       "      <td>4.136573</td>\n",
       "      <td>3.651725</td>\n",
       "      <td>3.093280</td>\n",
       "      <td>2.949733</td>\n",
       "    </tr>\n",
       "  </tbody>\n",
       "</table>\n",
       "<p>1204 rows × 4 columns</p>\n",
       "</div>"
      ],
      "text/plain": [
       "                                                    Target 354  Target 410   \n",
       "NS(=O)(=O)c1cc(Cl)c(Cl)c(S(N)(=O)=O)c1                3.299619    3.203899  \\\n",
       "N#CCC(=O)Nc1ccc(S(N)(=O)=O)cc1                        4.220268    3.675802   \n",
       "CC(F)CNc1ccc(S(N)(=O)=O)cc1                           3.215924    3.232791   \n",
       "COC(=O)/C=C/c1ccc(O)cc1                               2.703905    2.611614   \n",
       "C=C(C)CNS(=O)(=O)c1ccc(N)cc1                          2.605440    2.317879   \n",
       "...                                                        ...         ...   \n",
       "NS(=O)(=O)c1ccc(CNC(=O)CN(CCN(CC(=O)O)CC(=O)NCc...    3.900257    3.608387   \n",
       "NS(=O)(=O)c1cc(C(=O)O)c(NCc2ccco2)cc1Cl               2.945144    2.760889   \n",
       "NS(=O)(=O)c1ccc(CNC(=O)CCCNC(=O)NCCc2ccccc2)cc1       3.329159    2.828304   \n",
       "CC1CN(C)S(=O)(=O)c2ccc(N)cc21                         2.920528    2.996840   \n",
       "NS(=O)(=O)c1ccc(CN2C(=O)c3nccnc3C2=O)cc1              4.136573    3.651725   \n",
       "\n",
       "                                                    Target 117  Target 237  \n",
       "NS(=O)(=O)c1cc(Cl)c(Cl)c(S(N)(=O)=O)c1                3.135286    2.747118  \n",
       "N#CCC(=O)Nc1ccc(S(N)(=O)=O)cc1                        3.504011    3.453675  \n",
       "CC(F)CNc1ccc(S(N)(=O)=O)cc1                           3.051273    3.183521  \n",
       "COC(=O)/C=C/c1ccc(O)cc1                               2.519189    2.845828  \n",
       "C=C(C)CNS(=O)(=O)c1ccc(N)cc1                          2.159799    2.347081  \n",
       "...                                                        ...         ...  \n",
       "NS(=O)(=O)c1ccc(CNC(=O)CN(CCN(CC(=O)O)CC(=O)NCc...    3.896073    2.975710  \n",
       "NS(=O)(=O)c1cc(C(=O)O)c(NCc2ccco2)cc1Cl               3.027936    3.417308  \n",
       "NS(=O)(=O)c1ccc(CNC(=O)CCCNC(=O)NCCc2ccccc2)cc1       3.480674    3.453675  \n",
       "CC1CN(C)S(=O)(=O)c2ccc(N)cc21                         2.645209    2.892585  \n",
       "NS(=O)(=O)c1ccc(CN2C(=O)c3nccnc3C2=O)cc1              3.093280    2.949733  \n",
       "\n",
       "[1204 rows x 4 columns]"
      ]
     },
     "execution_count": 105,
     "metadata": {},
     "output_type": "execute_result"
    }
   ],
   "source": [
    "\n",
    "\n",
    "all_things = []\n",
    "for J,item in enumerate(many_hits[13:15]):\n",
    "    new_base=pd.DataFrame(Y[many_hits[J].name]).copy()\n",
    "    end_range = len(many_hits)-2\n",
    "    for i,target in enumerate(many_hits[1:end_range]):\n",
    "        if i == 0:\n",
    "            base = new_base.copy()\n",
    "        else:\n",
    "            base = merged_df\n",
    "        other_hits_series = many_hits[i+1:]\n",
    "        local_running_total =0\n",
    "        for j,o in enumerate(other_hits_series):\n",
    "            #print(o.name)\n",
    "            #print(local_running_total)\n",
    "            df_o = pd.DataFrame(Y[o.name]).copy()\n",
    "            if len([x for x in df_o.columns.intersection(base.columns)])==0:\n",
    "                #print(base.columns)\n",
    "                other_merged_df = pd.merge(df_o,base,how='inner',right_index=True,left_index=True).dropna(axis=0,how='any')\n",
    "                other_merged_cell_count = other_merged_df.shape[0] * other_merged_df.shape[1]\n",
    "                if other_merged_cell_count > 0:\n",
    "                    if other_merged_cell_count == local_running_total:\n",
    "                        #print(local_running_total)\n",
    "                        #print('weird tie case, rpobbaly include both which adds more data!. For now reducing to 1 (favoring newst)') \n",
    "                        pass\n",
    "                if other_merged_cell_count>local_running_total:\n",
    "                    local_running_total = other_merged_cell_count\n",
    "                    current_merge_choice = other_merged_df\n",
    "                    #print(f'{local_running_total} {i}')    \n",
    "        if local_running_total==0:\n",
    "            #print('no merge amongst any of the others')\n",
    "            current_merge_choice = None\n",
    "        else:\n",
    "            if current_merge_choice is not None:\n",
    "                #print(i)\n",
    "                #print(base.columns)\n",
    "                #print(current_merge_choice.columns)\n",
    "                merged_df_cell_count = current_merge_choice.shape[0]*current_merge_choice.shape[1]\n",
    "                base_cell_count = base.shape[0]*base.shape[1]     \n",
    "                if (merged_df_cell_count>base_cell_count) and (i>0):\n",
    "                    #print(f'Running Total Cell Count: {base_cell_count}... Current Total: {merged_df_cell_count}')\n",
    "                    merged_df = current_merge_choice\n",
    "                elif i == 0:\n",
    "                    #print(f'Starting Total Cell Count: {base_cell_count}... Current Total: {merged_df_cell_count}')\n",
    "                    merged_df = current_merge_choice\n",
    "                else:\n",
    "                    merged_df = base\n",
    "            else:\n",
    "                merged_df = base\n",
    "    if len(merged_df)>1:\n",
    "        print('yes')\n",
    "        all_things.append(merged_df)\n",
    "\n",
    "all_things.sort(key=len)\n",
    "all_things.reverse()\n",
    "all_things[-1]"
   ]
  },
  {
   "cell_type": "code",
   "execution_count": 118,
   "metadata": {
    "ExecuteTime": {
     "end_time": "2024-11-03T21:49:54.832736Z",
     "start_time": "2024-11-03T21:49:54.822868Z"
    }
   },
   "outputs": [
    {
     "data": {
      "text/plain": [
       "4816"
      ]
     },
     "execution_count": 118,
     "metadata": {},
     "output_type": "execute_result"
    }
   ],
   "source": [
    " 1204*4"
   ]
  },
  {
   "cell_type": "markdown",
   "metadata": {},
   "source": [
    "### *How Much Information Does The Largest Multi-Target DataFrame Contain?*\n",
    "The DataFrame contains 1,204 unique compounds (rows) assayed against four unique targets (columns) or equivantly 4,816 entries (individual IC50 measurements). \n",
    "\n",
    "We can see this is about 50x smaller than the Merck Kinase Dataset! \n",
    "- Merck Multi-Target DataFrame --->2,500 compounds x 99 targets = 247,500\n",
    "\n",
    "#### Fundamental Problem: Public-Acess Activity Data Is a Patchwork\n",
    "While it is likely that there better ways to construct a larger multi-target DataFrame, it is hard to imagine that even the best approach could more than quadrouple the current size. The issue here is that public-access assay data are provided by a wide range of parties who inviariably target different receptors.One assay could come from a group wanting to target a receptor involved in cancers linked to Double-stranded DNA breaks. Another assay could be provided by a different group targeting a receptor involved in a different cancer pathway, or even a different disease entirely. \n",
    "\n",
    "*If two Receptors are unrelated, their assays share very little (oftentimes zero) compounds in common.*\n",
    "\n",
    "Because of this, despite our 691 Targets, most have only a handful of compounds in common. The rows (compounds) of a Multi-Target DataFrame are equivalent to the intersection formed between the compound libraries associated with each Target's assay. For example, if three targets share 400 compounds, but a fourth target only shares 20 in common with them, then the 4-Target DataFrame formed between them only has 20 rows. \n",
    "\n",
    "#### Imputation and Other Strategies to Include More Data\n",
    "If we relax our intersection contraints from 100% (all compounds are shared between all targets), it is much easier to construct the DataFrame and find suitable sets of Targets. While this introduces entries with unknown values (no assay for compound-target), it may be possible to approximate their values through imputation. Further discussion of imputation and other ideas aimed at increasing the maximum size of a Multi-Target DataFrame are reserved for the conclusion and remain hypothetical. \n",
    "\n",
    "Instead, the implemented solution leverages the patchwork nature of the ChEMBL assay data to produce a collection of large Multi-Target DataFrames. This increases the number of unique entries (compound-target activity measurement) from 4,816 to 32,000 which is about 7x smaller than Merck .  "
   ]
  },
  {
   "cell_type": "markdown",
   "metadata": {},
   "source": [
    "### Breadth Approach \n",
    "\n",
    "We want to find find the patches. T"
   ]
  },
  {
   "cell_type": "code",
   "execution_count": 108,
   "metadata": {
    "ExecuteTime": {
     "end_time": "2024-11-03T02:41:18.500345Z",
     "start_time": "2024-11-03T02:41:03.397137Z"
    }
   },
   "outputs": [
    {
     "name": "stdout",
     "output_type": "stream",
     "text": [
      "Starting Total Cell Count: 19096... Current Total: 2184\n"
     ]
    }
   ],
   "source": [
    "unused_hits=[df for df in many_hits if df.name not in base.columns] \n",
    "many_hits = unused_hits\n",
    "new_base=merged_df = pd.DataFrame(Y[many_hits[0].name]).copy()\n",
    "\n",
    "end_range = len(many_hits)-2\n",
    "for i,target in enumerate(many_hits[1:end_range]):\n",
    "    if i == 0:\n",
    "        base = new_base.copy()\n",
    "    else:\n",
    "        base = merged_df\n",
    "    other_hits_series = many_hits[i+1:]\n",
    "    local_running_total =0\n",
    "    for j,o in enumerate(other_hits_series):\n",
    "        #print(o.name)\n",
    "        #print(local_running_total)\n",
    "        df_o = pd.DataFrame(Y[o.name]).copy()\n",
    "        if len([x for x in df_o.columns.intersection(base.columns)])==0:\n",
    "            #print(base.columns)\n",
    "            other_merged_df = pd.merge(df_o,base,how='inner',right_index=True,left_index=True).dropna(axis=0,how='any')\n",
    "            other_merged_cell_count = other_merged_df.shape[0] * other_merged_df.shape[1]\n",
    "            if other_merged_cell_count > 0:\n",
    "                if other_merged_cell_count == local_running_total:\n",
    "                    #print(local_running_total)\n",
    "                    #print('weird tie case, rpobbaly include both which adds more data!. For now reducing to 1 (favoring newst)') \n",
    "                    pass\n",
    "            if other_merged_cell_count>local_running_total:\n",
    "                local_running_total = other_merged_cell_count\n",
    "                current_merge_choice = other_merged_df\n",
    "                #print(f'{local_running_total} {i}')    \n",
    "    if local_running_total==0:\n",
    "        #print('no merge amongst any of the others')\n",
    "        current_merge_choice = None\n",
    "    else:\n",
    "        if current_merge_choice is not None:\n",
    "            #print(i)\n",
    "            #print(base.columns)\n",
    "            #print(current_merge_choice.columns)\n",
    "            merged_df_cell_count = current_merge_choice.shape[0]*current_merge_choice.shape[1]\n",
    "            base_cell_count = base.shape[0]*base.shape[1]     \n",
    "            if (merged_df_cell_count>base_cell_count) and (i>0):\n",
    "                print(f'Running Total Cell Count: {base_cell_count}... Current Total: {merged_df_cell_count}')\n",
    "                merged_df4 = current_merge_choice\n",
    "            elif i == 0:\n",
    "                print(f'Starting Total Cell Count: {base_cell_count}... Current Total: {merged_df_cell_count}')\n",
    "                merged_df4 = current_merge_choice\n",
    "            else:\n",
    "                merged_df4 = base\n",
    "        else:\n",
    "            merged_df4 = base\n",
    "\n"
   ]
  },
  {
   "cell_type": "code",
   "execution_count": 109,
   "metadata": {
    "ExecuteTime": {
     "end_time": "2024-11-03T02:41:18.522184Z",
     "start_time": "2024-11-03T02:41:18.505111Z"
    }
   },
   "outputs": [
    {
     "name": "stdout",
     "output_type": "stream",
     "text": [
      "318\n",
      "37\n",
      "378\n",
      "38\n",
      "515\n",
      "48\n",
      "306\n",
      "73\n",
      "309\n",
      "75\n",
      "361\n",
      "104\n",
      "1904\n",
      "117\n",
      "859\n",
      "131\n",
      "1185\n",
      "137\n",
      "387\n",
      "141\n",
      "1110\n",
      "146\n",
      "351\n",
      "147\n",
      "904\n",
      "148\n",
      "631\n",
      "150\n",
      "1228\n",
      "151\n",
      "1500\n",
      "156\n",
      "424\n",
      "159\n",
      "371\n",
      "166\n",
      "450\n",
      "167\n",
      "1123\n",
      "170\n",
      "807\n",
      "174\n",
      "311\n",
      "176\n",
      "1085\n",
      "177\n",
      "1105\n",
      "185\n",
      "1072\n",
      "187\n",
      "746\n",
      "191\n",
      "346\n",
      "197\n",
      "1245\n",
      "216\n",
      "643\n",
      "224\n",
      "1106\n",
      "225\n",
      "433\n",
      "233\n",
      "1921\n",
      "237\n",
      "341\n",
      "243\n",
      "393\n",
      "248\n",
      "395\n",
      "249\n",
      "549\n",
      "252\n",
      "339\n",
      "255\n",
      "527\n",
      "269\n",
      "364\n",
      "270\n",
      "438\n",
      "295\n",
      "328\n",
      "312\n",
      "810\n",
      "330\n",
      "447\n",
      "331\n",
      "425\n",
      "334\n",
      "374\n",
      "335\n",
      "366\n",
      "342\n",
      "476\n",
      "345\n",
      "317\n",
      "346\n",
      "1560\n",
      "354\n",
      "561\n",
      "356\n",
      "405\n",
      "359\n",
      "404\n",
      "367\n",
      "531\n",
      "368\n",
      "475\n",
      "377\n",
      "350\n",
      "378\n",
      "463\n",
      "395\n",
      "1726\n",
      "410\n",
      "406\n",
      "446\n",
      "409\n",
      "461\n",
      "498\n",
      "471\n",
      "314\n",
      "480\n",
      "347\n",
      "554\n",
      "405\n",
      "562\n"
     ]
    }
   ],
   "source": [
    "details = []\n",
    "for i,df in enumerate(only_hits_dfs):\n",
    "    if len(df)>300:\n",
    "        print(len(df))\n",
    "        print(i)\n"
   ]
  },
  {
   "cell_type": "code",
   "execution_count": 110,
   "metadata": {
    "ExecuteTime": {
     "end_time": "2024-11-03T02:41:27.926062Z",
     "start_time": "2024-11-03T02:41:22.432824Z"
    }
   },
   "outputs": [
    {
     "name": "stderr",
     "output_type": "stream",
     "text": [
      "C:\\Users\\Jelan\\AppData\\Local\\Programs\\Python\\Python311\\Lib\\site-packages\\pandas\\core\\internals\\blocks.py:329: RuntimeWarning: divide by zero encountered in log10\n",
      "  result = func(self.values, **kwargs)\n",
      "C:\\Users\\Jelan\\AppData\\Local\\Programs\\Python\\Python311\\Lib\\site-packages\\pandas\\core\\internals\\blocks.py:329: RuntimeWarning: invalid value encountered in log10\n",
      "  result = func(self.values, **kwargs)\n"
     ]
    }
   ],
   "source": [
    "\n",
    "\n",
    "\n",
    "data_matrix_0 = data_matrix.copy()\n",
    "X = data_matrix_0.iloc[:,:1024].copy()\n",
    "Y = data_matrix_0.iloc[:,1024:].copy()\n",
    "#dm = pd.concat([X,Ys])\n",
    "cleaned_lis = []\n",
    "for string in X.index:\n",
    "    lis_0 = []\n",
    "    for char in string:\n",
    "        if char !='\\\\':\n",
    "            lis_0.append(char)\n",
    "    cleaned_lis.append(''.join(lis_0))\n",
    "X.index = cleaned_lis\n",
    "\n",
    "\n",
    "#dm = pd.concat([X,Ys])\n",
    "cleaned_lis = []\n",
    "for string in Y.index:\n",
    "    lis_0 = []\n",
    "    for char in string:\n",
    "        if char !='\\\\':\n",
    "            lis_0.append(char)\n",
    "    cleaned_lis.append(''.join(lis_0))\n",
    "Y.index = cleaned_lis\n",
    "\n",
    "\n",
    "#Y[Y<=0] = np.nan\n",
    "\n",
    "Ys =np.log10(Y)*-1\n",
    "\n",
    "dm = pd.concat([X.copy(),Ys.copy()],axis=1)\n",
    "data_matrix = dm.copy()\n"
   ]
  },
  {
   "cell_type": "code",
   "execution_count": 112,
   "metadata": {
    "ExecuteTime": {
     "end_time": "2024-11-03T02:44:04.494710Z",
     "start_time": "2024-11-03T02:43:07.009135Z"
    }
   },
   "outputs": [
    {
     "name": "stdout",
     "output_type": "stream",
     "text": [
      "(1499, 1025)\n"
     ]
    },
    {
     "data": {
      "text/plain": [
       "(1499, 1025)"
      ]
     },
     "execution_count": 112,
     "metadata": {},
     "output_type": "execute_result"
    }
   ],
   "source": [
    "\n",
    "data_matrix_practice = data_matrix.copy()\n",
    "data_matrix_practice.index.name = 'SMILES'\n",
    "data_matrix_practice.reset_index(inplace=True)\n",
    "data_matrix_practice['SMILES']= [rdkit.Chem.MolToSmiles(rdkit.Chem.MolFromSmiles(smi)) for smi in data_matrix_practice['SMILES']]\n",
    "\n",
    "duplicates_smiles = data_matrix_practice[data_matrix_practice['SMILES'].duplicated()]['SMILES'].values\n",
    "TRUE_X = data_matrix_practice.drop_duplicates('SMILES',keep='first')\n",
    "TRUE_X.index = TRUE_X['SMILES']\n",
    "data_matrix = TRUE_X.drop(columns=['SMILES'])\n",
    "\n",
    "\n",
    "\n",
    "col_name = many_hits[0].name\n",
    "cols = [x for x in X.columns]\n",
    "X.index = [rdkit.Chem.MolToSmiles(rdkit.Chem.MolFromSmiles(smi)) for smi in X.index]\n",
    "cols.append(col_name)\n",
    "single_classifier_dm = data_matrix[cols]\n",
    "DM = single_classifier_dm.dropna(axis=0,subset=col_name)\n",
    "print(DM.shape)\n",
    "\n",
    "continous_value_DM = DM.copy()\n",
    "activity_threshold = np.percentile(continous_value_DM.loc[:,col_name], 90)\n",
    "inds = DM[col_name]<activity_threshold\n",
    "inds_a = DM[col_name]>=activity_threshold\n",
    "DM = DM.copy()\n",
    "DM.loc[inds,col_name]=0\n",
    "DM.loc[inds_a,col_name]=1\n",
    "DM.shape\n"
   ]
  },
  {
   "cell_type": "code",
   "execution_count": 17,
   "metadata": {
    "ExecuteTime": {
     "end_time": "2024-10-31T17:50:22.581474Z",
     "start_time": "2024-10-31T17:50:22.575017Z"
    }
   },
   "outputs": [
    {
     "ename": "SyntaxError",
     "evalue": "'break' outside loop (668683560.py, line 1)",
     "output_type": "error",
     "traceback": [
      "\u001b[1;36m  Cell \u001b[1;32mIn[17], line 1\u001b[1;36m\u001b[0m\n\u001b[1;33m    break\u001b[0m\n\u001b[1;37m    ^\u001b[0m\n\u001b[1;31mSyntaxError\u001b[0m\u001b[1;31m:\u001b[0m 'break' outside loop\n"
     ]
    }
   ],
   "source": [
    "break"
   ]
  },
  {
   "cell_type": "code",
   "execution_count": 114,
   "metadata": {
    "ExecuteTime": {
     "end_time": "2024-11-03T02:44:21.232131Z",
     "start_time": "2024-11-03T02:44:20.836053Z"
    }
   },
   "outputs": [
    {
     "data": {
      "text/plain": [
       "<Axes: >"
      ]
     },
     "execution_count": 114,
     "metadata": {},
     "output_type": "execute_result"
    },
    {
     "data": {
      "image/png": "[encoded data removed]",
      "text/plain": [
       "<Figure size 640x480 with 1 Axes>"
      ]
     },
     "metadata": {},
     "output_type": "display_data"
    }
   ],
   "source": [
    "Ys['Target 151'].hist()"
   ]
  },
  {
   "cell_type": "markdown",
   "metadata": {},
   "source": [
    "# Machine Learning Part"
   ]
  },
  {
   "cell_type": "code",
   "execution_count": null,
   "metadata": {
    "ExecuteTime": {
     "end_time": "2024-10-31T17:50:22.586499Z",
     "start_time": "2024-10-31T17:50:22.586499Z"
    }
   },
   "outputs": [],
   "source": [
    "\n",
    "#DM[DM[col_name]>=activity_threshold]==1\n",
    "#DM\n",
    "import sklearn \n",
    "from sklearn.neighbors import KNeighborsClassifier\n",
    "\n",
    "\n",
    "y = DM[col_name]\n",
    "\n",
    "feature_narrowing = DM.copy().iloc[:,:-1]\n",
    "\n",
    "from sklearn.feature_selection import VarianceThreshold\n",
    "\n",
    "\n",
    "def remove_low_variance(input_data,threshold=0.1):\n",
    "    selection = VarianceThreshold(threshold)\n",
    "    selection.fit(input_data)\n",
    "    return input_data[input_data.columns[selection.get_support(indices=True)]]\n",
    "def remove_highly_correlated_features(descriptors,threshold = 0.9):\n",
    "    corrleated_matrix = descriptors.corr().abs()\n",
    "    upper_triangle = corrleated_matrix.where(np.triu(np.ones(corrleated_matrix.shape),k=1).astype(bool))\n",
    "    \n",
    "    to_drop = [column for column in upper_triangle.columns if any(upper_triangle[column] >= threshold)]\n",
    "    descriptors_correlated_dropped = descriptors.drop(columns =to_drop,axis=1)\n",
    "    return descriptors_correlated_dropped\n",
    "\n",
    "feature_narrowing1 = remove_highly_correlated_features(feature_narrowing,0.80)\n",
    "feature_narrowing2= remove_low_variance(feature_narrowing1,threshold=0.01)\n",
    "\n",
    "intermediate = DM.loc[feature_narrowing2.index,:]\n",
    "y_col = intermediate.loc[:,col_name]\n",
    "DM_new = pd.concat([feature_narrowing2,pd.DataFrame(y_col)],axis=1)"
   ]
  },
  {
   "cell_type": "code",
   "execution_count": null,
   "metadata": {
    "ExecuteTime": {
     "end_time": "2024-10-31T17:50:22.589491Z",
     "start_time": "2024-10-31T17:50:22.589491Z"
    }
   },
   "outputs": [],
   "source": [
    "\n",
    "X = DM.iloc[:,:-1]\n",
    "y = DM.iloc[:,-1]\n",
    "sklearn.neighbors.KNeighborsClassifier\n",
    "from sklearn.model_selection import train_test_split\n",
    "X_train, X_test, y_train, y_test = train_test_split(X, y, test_size=0.20,random_state=42)\n",
    "\n",
    "from sklearn.neighbors import KNeighborsClassifier\n",
    "classifier = KNeighborsClassifier(n_neighbors=5)\n",
    "classifier.fit(X_train, y_train)\n",
    "\n",
    "\n",
    "\n",
    "y_pred = classifier.predict(X_test)\n",
    "\n",
    "\n",
    "\n"
   ]
  },
  {
   "cell_type": "code",
   "execution_count": null,
   "metadata": {
    "ExecuteTime": {
     "end_time": "2024-10-31T17:50:22.592140Z",
     "start_time": "2024-10-31T17:50:22.592140Z"
    }
   },
   "outputs": [],
   "source": [
    "import lazypredict\n",
    "X = DM.iloc[:,:-1]\n",
    "y = y_col\n",
    "\n",
    "from lazypredict.Supervised import LazyClassifier\n",
    "X_train, X_test,y_train, y_test = train_test_split(X,y,test_size=0.2,random_state=42)\n",
    "lclf = LazyClassifier(verbose=0,ignore_warnings=True,custom_metric=None)\n",
    "models,predictions = lclf.fit(X_train, X_test, y_train, y_test)"
   ]
  },
  {
   "cell_type": "code",
   "execution_count": null,
   "metadata": {
    "ExecuteTime": {
     "end_time": "2024-10-31T17:50:22.594134Z",
     "start_time": "2024-10-31T17:50:22.594134Z"
    }
   },
   "outputs": [],
   "source": [
    "\n",
    "predictions"
   ]
  },
  {
   "cell_type": "code",
   "execution_count": null,
   "metadata": {
    "ExecuteTime": {
     "end_time": "2024-10-31T17:50:22.596129Z",
     "start_time": "2024-10-31T17:50:22.596129Z"
    }
   },
   "outputs": [],
   "source": [
    "from sklearn.pipeline import Pipeline\n",
    "from sklearn.preprocessing import StandardScaler\n",
    "from sklearn.neighbors import KNeighborsClassifier\n",
    "from sklearn.naive_bayes import BernoulliNB\n",
    "import lightgbm as lgb\n",
    "from lightgbm import LGBMClassifier\n",
    "from sklearn.neighbors import NearestCentroid\n",
    "from sklearn.ensemble import  BaggingClassifier\n",
    "from sklearn.linear_model import RidgeClassifierCV\n",
    "\n",
    "from sklearn.linear_model import LogisticRegression\n",
    "from sklearn.linear_model import LogisticRegressionCV\n",
    "\n",
    "from sklearn.linear_model import Perceptron\n",
    "\n",
    "from sklearn.ensemble import RandomForestClassifier\n",
    "\n",
    "\n",
    "\n",
    "KNN = KNeighborsClassifier()\n",
    "BNB = BernoulliNB()\n",
    "NC = NearestCentroid()\n",
    "LGBM = LGBMClassifier()\n",
    "BC = BaggingClassifier()\n",
    "RC = RidgeClassifierCV()\n",
    "LR = LogisticRegression()\n",
    "LRC = LogisticRegressionCV()\n",
    "P = Perceptron()\n",
    "RF = RandomForestClassifier()\n",
    "pipe = Pipeline(\n",
    "    steps = [(\"scaler\",StandardScaler()),(('KN',LGBMClassifier()))]\n",
    ")\n",
    "\n",
    "pipe = LGBMClassifier()"
   ]
  },
  {
   "cell_type": "code",
   "execution_count": null,
   "metadata": {
    "ExecuteTime": {
     "end_time": "2024-10-31T17:50:22.598123Z",
     "start_time": "2024-10-31T17:50:22.598123Z"
    }
   },
   "outputs": [],
   "source": [
    "pipe.fit(X_train,y_train)\n",
    "y_predict = pipe.predict(X_test)"
   ]
  },
  {
   "cell_type": "code",
   "execution_count": null,
   "metadata": {
    "ExecuteTime": {
     "end_time": "2024-10-31T17:50:22.600271Z",
     "start_time": "2024-10-31T17:50:22.600271Z"
    }
   },
   "outputs": [],
   "source": [
    "from sklearn.metrics import balanced_accuracy_score\n",
    "from sklearn.metrics import accuracy_score\n",
    "from sklearn.metrics import roc_auc_score\n",
    "\n",
    "print('roc_auc_score= ',roc_auc_score(y_test,y_predict))\n",
    "\n",
    "print('accur= ',accuracy_score(y_test,y_predict))\n",
    "\n",
    "print('balanced_accur= ',balanced_accuracy_score(y_test,y_predict))"
   ]
  },
  {
   "cell_type": "code",
   "execution_count": null,
   "metadata": {
    "ExecuteTime": {
     "end_time": "2024-10-31T17:50:22.602298Z",
     "start_time": "2024-10-31T17:50:22.602298Z"
    }
   },
   "outputs": [],
   "source": [
    "y_pred_df = pd.DataFrame(y_predict)\n",
    "y_pred_df.index=X_test.index\n",
    "\n",
    "y_test_df = pd.DataFrame(y_test)\n",
    "y_test_df.index=X_test.index\n"
   ]
  },
  {
   "cell_type": "code",
   "execution_count": null,
   "metadata": {
    "ExecuteTime": {
     "end_time": "2024-10-31T17:50:22.605257Z",
     "start_time": "2024-10-31T17:50:22.604256Z"
    }
   },
   "outputs": [],
   "source": [
    "score_df = pd.concat([y_pred_df,y_test_df],axis=1)\n",
    "score_df['Pred - Label'] = score_df[score_df.columns[0]] - score_df[score_df.columns[1]]\n",
    "df = score_df\n",
    "#df.loc[(df!=0).any(axis=1)]\n",
    "relevant_score_card = df.loc[~(df==0).all(axis=1)]\n",
    "\n",
    "correct_Active_Prediction = relevant_score_card[relevant_score_card[relevant_score_card.columns[-1]]==0]\n",
    "missed_Active = relevant_score_card[relevant_score_card[relevant_score_card.columns[-1]]==-1]\n",
    "incorrect_labeled_active = relevant_score_card[relevant_score_card[relevant_score_card.columns[-1]]==1]\n",
    "correct_inactive = relevant_score_card[relevant_score_card[relevant_score_card.columns[-1]]==0]\n",
    "\n",
    "resto = df[df[[df.columns[0],df.columns[1]]]==0][df.columns[:2]]\n",
    "correct_active = resto.dropna(how='any')"
   ]
  },
  {
   "cell_type": "code",
   "execution_count": null,
   "metadata": {
    "ExecuteTime": {
     "end_time": "2024-10-31T17:50:22.608969Z",
     "start_time": "2024-10-31T17:50:22.608969Z"
    }
   },
   "outputs": [],
   "source": [
    "\n",
    "ALL_ACTIVES = pd.concat([correct_Active_Prediction,missed_Active])\n",
    "number_incorrectly_correctly_guessed = ALL_ACTIVES['Pred - Label'].sum()*-1\n",
    "number_correctly_guessed = len(ALL_ACTIVES)-number_incorrectly_correctly_guessed"
   ]
  },
  {
   "cell_type": "code",
   "execution_count": null,
   "metadata": {},
   "outputs": [],
   "source": []
  },
  {
   "cell_type": "code",
   "execution_count": null,
   "metadata": {
    "ExecuteTime": {
     "end_time": "2024-10-31T17:50:22.612920Z",
     "start_time": "2024-10-31T17:50:22.612920Z"
    }
   },
   "outputs": [],
   "source": [
    "total = len(ALL_ACTIVES)\n",
    "true_null_cases = len(y_test)-len(ALL_ACTIVES)\n",
    "print(f'Test_Size = {len(y_test)}')\n",
    "print(f'Number of  Active Labels = {len(ALL_ACTIVES)}')\n",
    "print(f\"True_Cases/All_Cases = {np.round((total/len(y_test)*100))}%\")\n",
    "\n",
    "print('---------Comparing Ground Truth To Model Prediction  ----------------')\n",
    "print(f\"Detection = {np.round(number_correctly_guessed/total*100)}%\" )\n",
    "print(f'Sensitivity = made {number_correctly_guessed} out of {total}')\n",
    "print(f'#False Alarms/# Null Cases = {np.round(len(incorrect_labeled_active)/true_null_cases*100).round()}%----->Specificity = 1-that')\n",
    "\n",
    "print(f'Inactive Correctly Guessed {len(correct_active)}; out of {len(y_test)-(len(ALL_ACTIVES))} Inactives')\n",
    "print(' ')\n",
    "print(' ')\n",
    "print('**Note**')\n",
    "print('H0==H0 removed in DF below. Showing actual score core card would show all zeros... most common event--> Guessing Inactive Correctly ')\n",
    "relevant_score_card.head()\n"
   ]
  },
  {
   "cell_type": "code",
   "execution_count": null,
   "metadata": {
    "ExecuteTime": {
     "end_time": "2024-10-31T17:50:22.614914Z",
     "start_time": "2024-10-31T17:50:22.613918Z"
    }
   },
   "outputs": [],
   "source": [
    "total = len(ALL_ACTIVES)\n",
    "true_null_cases = len(y_test)-len(ALL_ACTIVES)\n",
    "print(y_test.name)\n",
    "print(f'Test_Size = {len(y_test)}')\n",
    "print(f'Number of  Active Labels = {len(ALL_ACTIVES)}')\n",
    "print(f\"True_Cases/All_Cases = {np.round((total/len(y_test)*100))}%\")\n",
    "\n",
    "print('---------Comparing Ground Truth To Model Prediction  ----------------')\n",
    "print(f\"Detection = {np.round(number_correctly_guessed/total*100)}%\" )\n",
    "print(f'Sensitivity = made {number_correctly_guessed} out of {total}')\n",
    "print(f'#False Alarms/# Null Cases = {np.round(len(incorrect_labeled_active)/true_null_cases*100).round()}%----->Specificity = 1-that')\n",
    "\n",
    "print(f'Inactive Correctly Guessed {len(correct_active)}; out of {len(y_test)-(len(ALL_ACTIVES))} Inactives')\n",
    "print(' ')\n",
    "print(' ')\n",
    "print('**Note**')\n",
    "print('H0==H0 removed in DF below. Showing actual score core card would show all zeros... most common event--> Guessing Inactive Correctly ')\n",
    "relevant_score_card.head()\n"
   ]
  },
  {
   "cell_type": "code",
   "execution_count": null,
   "metadata": {
    "ExecuteTime": {
     "end_time": "2024-10-31T17:50:22.615911Z",
     "start_time": "2024-10-31T17:50:22.615911Z"
    }
   },
   "outputs": [],
   "source": [
    "Ys[y_test.name].dropna()"
   ]
  },
  {
   "cell_type": "code",
   "execution_count": null,
   "metadata": {
    "ExecuteTime": {
     "end_time": "2024-10-31T17:50:22.617906Z",
     "start_time": "2024-10-31T17:50:22.617906Z"
    }
   },
   "outputs": [],
   "source": [
    "Ys[y_test.name].hist()\n",
    "\n",
    "\n",
    "np.percentile(Ys[y_test.name].dropna(), 95)\n",
    "\n",
    "\n",
    "# importing the modules\n",
    "import matplotlib.pyplot as plt\n",
    "import numpy as np\n",
    "\n",
    "# specifying the plot size\n",
    "plt.figure(figsize = (10, 5))\n",
    "\n",
    "# only one line may be specified; full height\n",
    "plt.axvline(x = 7, color = 'b', label = 'axvline - full height')\n",
    "\n",
    "# rendering plot\n",
    "plt.show()\n",
    "\n",
    "#y,percentile?\n"
   ]
  },
  {
   "cell_type": "code",
   "execution_count": null,
   "metadata": {
    "ExecuteTime": {
     "end_time": "2024-10-31T17:50:22.619932Z",
     "start_time": "2024-10-31T17:50:22.619932Z"
    }
   },
   "outputs": [],
   "source": [
    "((19/12)*5)*(((5.8-10.5)**2+(14.2-10.5)**2+(5.6-10.5)**2+(16.4-10.5)**2)/33.25)"
   ]
  },
  {
   "cell_type": "code",
   "execution_count": null,
   "metadata": {},
   "outputs": [],
   "source": []
  },
  {
   "cell_type": "code",
   "execution_count": null,
   "metadata": {
    "ExecuteTime": {
     "end_time": "2024-10-31T17:50:22.623931Z",
     "start_time": "2024-10-31T17:50:22.623931Z"
    }
   },
   "outputs": [],
   "source": [
    "only_hits_dfs[19]"
   ]
  },
  {
   "cell_type": "code",
   "execution_count": null,
   "metadata": {
    "ExecuteTime": {
     "end_time": "2024-10-31T17:50:22.625917Z",
     "start_time": "2024-10-31T17:50:22.625917Z"
    }
   },
   "outputs": [],
   "source": [
    "import rdkit.Chem\n",
    "f1 = rdkit.Chem.MolFromSmiles('C[C@@H](O)[C@@H]1NC(=O)[C@H](CCCCN)NC(=O)[C@@H](Cc2c[nH]c3ccccc23)NC(=O)[C@H](Cc4ccc(NC(=O)NO)cc4)NC(=O)[C@@H](CSSC[C@H](NC1=O)C(=O)N[C@@H](Cc5ccc6ccccc6c5)C(=O)N)NC(=O)[C@H](N)Cc7ccc(Cl)cc7')\n",
    "f2 =  rdkit.Chem.MolFromSmiles('CC(C)F')\n",
    "test_smiles = [rd_kit_featurizer.featurize(f) for f in only_hits_dfs[19].index]"
   ]
  },
  {
   "cell_type": "code",
   "execution_count": null,
   "metadata": {
    "ExecuteTime": {
     "end_time": "2024-10-31T17:50:22.627934Z",
     "start_time": "2024-10-31T17:50:22.627934Z"
    }
   },
   "outputs": [],
   "source": [
    "pipe.predict(test_smiles[10])#rd_kit_featurizer.featurize()"
   ]
  },
  {
   "cell_type": "code",
   "execution_count": null,
   "metadata": {
    "ExecuteTime": {
     "end_time": "2024-10-31T17:50:22.630903Z",
     "start_time": "2024-10-31T17:50:22.630903Z"
    }
   },
   "outputs": [],
   "source": [
    "len(ALL_ACTIVES)"
   ]
  },
  {
   "cell_type": "code",
   "execution_count": null,
   "metadata": {
    "ExecuteTime": {
     "end_time": "2024-10-31T17:50:22.632899Z",
     "start_time": "2024-10-31T17:50:22.632899Z"
    }
   },
   "outputs": [],
   "source": [
    "y225 = Y[225]\n",
    "y225[y225>0].hist()\n"
   ]
  },
  {
   "cell_type": "code",
   "execution_count": null,
   "metadata": {
    "ExecuteTime": {
     "end_time": "2024-10-31T17:50:22.635421Z",
     "start_time": "2024-10-31T17:50:22.635421Z"
    }
   },
   "outputs": [],
   "source": [
    "\n",
    "np.percentile(continous_value_DM.loc[:,col_name], 90)"
   ]
  },
  {
   "cell_type": "code",
   "execution_count": null,
   "metadata": {
    "ExecuteTime": {
     "end_time": "2024-10-31T17:50:22.637884Z",
     "start_time": "2024-10-31T17:50:22.637884Z"
    }
   },
   "outputs": [],
   "source": [
    "10**0.4745"
   ]
  },
  {
   "cell_type": "code",
   "execution_count": null,
   "metadata": {
    "ExecuteTime": {
     "end_time": "2024-10-31T17:50:22.640876Z",
     "start_time": "2024-10-31T17:50:22.640876Z"
    }
   },
   "outputs": [],
   "source": [
    "DM['Target 225'].hist()"
   ]
  },
  {
   "cell_type": "code",
   "execution_count": null,
   "metadata": {
    "ExecuteTime": {
     "end_time": "2024-10-31T17:50:22.642871Z",
     "start_time": "2024-10-31T17:50:22.642871Z"
    }
   },
   "outputs": [],
   "source": [
    "ALL_ACTIVES.shape"
   ]
  },
  {
   "cell_type": "code",
   "execution_count": null,
   "metadata": {
    "ExecuteTime": {
     "end_time": "2024-10-31T17:50:22.645073Z",
     "start_time": "2024-10-31T17:50:22.645073Z"
    }
   },
   "outputs": [],
   "source": [
    "df_ = pd.DataFrame()\n",
    "df_['Actual'] = np.array(y_test)\n",
    "df_['Predicted'] = y_predict"
   ]
  },
  {
   "cell_type": "code",
   "execution_count": null,
   "metadata": {
    "ExecuteTime": {
     "end_time": "2024-10-31T17:50:22.646860Z",
     "start_time": "2024-10-31T17:50:22.646860Z"
    }
   },
   "outputs": [],
   "source": [
    "df_['Predicted'].hist()\n"
   ]
  },
  {
   "cell_type": "code",
   "execution_count": null,
   "metadata": {
    "ExecuteTime": {
     "end_time": "2024-10-31T17:50:22.648855Z",
     "start_time": "2024-10-31T17:50:22.648855Z"
    }
   },
   "outputs": [],
   "source": [
    "many_hits[3]"
   ]
  },
  {
   "cell_type": "code",
   "execution_count": null,
   "metadata": {
    "ExecuteTime": {
     "end_time": "2024-10-31T17:50:22.650849Z",
     "start_time": "2024-10-31T17:50:22.650849Z"
    }
   },
   "outputs": [],
   "source": [
    "df_['Actual'].hist()"
   ]
  },
  {
   "cell_type": "code",
   "execution_count": null,
   "metadata": {
    "ExecuteTime": {
     "end_time": "2024-10-31T17:50:22.652844Z",
     "start_time": "2024-10-31T17:50:22.652844Z"
    }
   },
   "outputs": [],
   "source": [
    "# when you have time, recreate those 2 cool multi label medoim bar chart "
   ]
  },
  {
   "cell_type": "code",
   "execution_count": null,
   "metadata": {
    "ExecuteTime": {
     "start_time": "2024-10-31T17:47:01.757Z"
    }
   },
   "outputs": [],
   "source": [
    "pipe.get_params()"
   ]
  }
 ],
 "metadata": {
  "kernelspec": {
   "display_name": "Python 3 (ipykernel)",
   "language": "python",
   "name": "python3"
  },
  "language_info": {
   "codemirror_mode": {
    "name": "ipython",
    "version": 3
   },
   "file_extension": ".py",
   "mimetype": "text/x-python",
   "name": "python",
   "nbconvert_exporter": "python",
   "pygments_lexer": "ipython3",
   "version": "3.11.8"
  }
 },
 "nbformat": 4,
 "nbformat_minor": 2
}
